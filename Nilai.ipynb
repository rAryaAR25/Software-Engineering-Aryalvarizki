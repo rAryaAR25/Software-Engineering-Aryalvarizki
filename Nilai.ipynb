{
  "nbformat": 4,
  "nbformat_minor": 0,
  "metadata": {
    "colab": {
      "name": "Nilai.ipynb",
      "provenance": [],
      "authorship_tag": "ABX9TyMnq7ncO3at1iJbnOlYbKDy",
      "include_colab_link": true
    },
    "kernelspec": {
      "name": "python3",
      "display_name": "Python 3"
    },
    "language_info": {
      "name": "python"
    }
  },
  "cells": [
    {
      "cell_type": "markdown",
      "metadata": {
        "id": "view-in-github",
        "colab_type": "text"
      },
      "source": [
        "<a href=\"https://colab.research.google.com/github/rAryaAR25/Software-Engineering-Aryalvarizki/blob/main/Nilai.ipynb\" target=\"_parent\"><img src=\"https://colab.research.google.com/assets/colab-badge.svg\" alt=\"Open In Colab\"/></a>"
      ]
    },
    {
      "cell_type": "code",
      "metadata": {
        "colab": {
          "base_uri": "https://localhost:8080/"
        },
        "id": "yHGBBYgtNZr5",
        "outputId": "9a03f8ce-8bee-4a0d-e4ef-6c18bfd6a8b7"
      },
      "source": [
        "Huruf = [\"a\",\"b\",\"c\"] * 4\n",
        "print(Huruf)"
      ],
      "execution_count": 1,
      "outputs": [
        {
          "output_type": "stream",
          "name": "stdout",
          "text": [
            "['a', 'b', 'c', 'a', 'b', 'c', 'a', 'b', 'c', 'a', 'b', 'c']\n"
          ]
        }
      ]
    }
  ]
}